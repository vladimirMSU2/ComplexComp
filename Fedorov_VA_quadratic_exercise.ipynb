{
 "cells": [
  {
   "cell_type": "markdown",
   "metadata": {},
   "source": [
    "## Solve a quadratic equation, $x^2 + b x + c = 0$."
   ]
  },
  {
   "cell_type": "code",
   "execution_count": null,
   "metadata": {},
   "outputs": [],
   "source": [
    "\n",
    "x = linspace(0, 4, 10001)\n",
    "y = f(x)\n",
    "\n",
    "root = None  # Initialization\n",
    "for i in range(len(x)-1):\n",
    "    if y[i]*y[i+1] < 0:\n",
    "         root = x[i] - (x[i+1] - x[i])/(y[i+1] - y[i])*y[i]\n",
    "         break  # Jump out of loop\n",
    "\n",
    "if root is None:\n",
    "    print 'Could not find any root in [%g, %g]' % (x[0], x[-1])\n",
    "else:\n",
    "    print 'Find (the first) root as x=%g' % root"
   ]
  },
  {
   "cell_type": "code",
   "execution_count": 2,
   "metadata": {},
   "outputs": [],
   "source": [
    "def solve_quad(b, c):\n",
    "    \"\"\"Solve a quadratic equation, x**2 + bx + c = 0.\n",
    "    \n",
    "    Parameters\n",
    "    ----------\n",
    "    b, c : float\n",
    "       Coefficients\n",
    "       \n",
    "    Returns\n",
    "    -------\n",
    "    x1, x2 : float or complex\n",
    "       Roots.\n",
    "    \"\"\"\n",
    "    # ... enter your code here ..."
   ]
  },
  {
   "cell_type": "markdown",
   "metadata": {},
   "source": [
    "Test the function"
   ]
  },
  {
   "cell_type": "code",
   "execution_count": 5,
   "metadata": {},
   "outputs": [],
   "source": [
    "from numpy import allclose"
   ]
  },
  {
   "cell_type": "code",
   "execution_count": 4,
   "metadata": {},
   "outputs": [],
   "source": [
    "variants = [{'b': 4.0, 'c': 3.0},\n",
    "            {'b': 2.0, 'c': 1.0},\n",
    "            {'b': 0.5, 'c': 4.0},\n",
    "            {'b': 1e10, 'c': 3.0},\n",
    "            {'b': -1e10, 'c': 4.0},]"
   ]
  },
  {
   "cell_type": "code",
   "execution_count": 7,
   "metadata": {},
   "outputs": [
    {
     "ename": "TypeError",
     "evalue": "'NoneType' object is not iterable",
     "output_type": "error",
     "traceback": [
      "\u001b[0;31m---------------------------------------------------------------------------\u001b[0m",
      "\u001b[0;31mTypeError\u001b[0m                                 Traceback (most recent call last)",
      "\u001b[0;32m<ipython-input-7-0498492584ae>\u001b[0m in \u001b[0;36m<module>\u001b[0;34m()\u001b[0m\n\u001b[1;32m      1\u001b[0m \u001b[0;32mfor\u001b[0m \u001b[0mvar\u001b[0m \u001b[0;32min\u001b[0m \u001b[0mvariants\u001b[0m\u001b[0;34m:\u001b[0m\u001b[0;34m\u001b[0m\u001b[0m\n\u001b[0;32m----> 2\u001b[0;31m     \u001b[0mx1\u001b[0m\u001b[0;34m,\u001b[0m \u001b[0mx2\u001b[0m \u001b[0;34m=\u001b[0m \u001b[0msolve_quad\u001b[0m\u001b[0;34m(\u001b[0m\u001b[0;34m**\u001b[0m\u001b[0mvar\u001b[0m\u001b[0;34m)\u001b[0m\u001b[0;34m\u001b[0m\u001b[0m\n\u001b[0m\u001b[1;32m      3\u001b[0m     \u001b[0mprint\u001b[0m\u001b[0;34m(\u001b[0m\u001b[0mallclose\u001b[0m\u001b[0;34m(\u001b[0m\u001b[0mx1\u001b[0m\u001b[0;34m*\u001b[0m\u001b[0mx2\u001b[0m\u001b[0;34m,\u001b[0m \u001b[0mvar\u001b[0m\u001b[0;34m[\u001b[0m\u001b[0;34m'c'\u001b[0m\u001b[0;34m]\u001b[0m\u001b[0;34m)\u001b[0m\u001b[0;34m)\u001b[0m\u001b[0;34m\u001b[0m\u001b[0m\n",
      "\u001b[0;31mTypeError\u001b[0m: 'NoneType' object is not iterable"
     ]
    }
   ],
   "source": [
    "for var in variants:\n",
    "    x1, x2 = solve_quad(**var)\n",
    "    print(allclose(x1*x2, var['c']))"
   ]
  },
  {
   "cell_type": "code",
   "execution_count": null,
   "metadata": {
    "collapsed": true
   },
   "outputs": [],
   "source": [
    "\n",
    "import sys\n",
    "\n",
    "def bisection(f, x_L, x_R, eps, return_x_list=False):\n",
    "    f_L = f(x_L)\n",
    "    if f_L*f(x_R) > 0:\n",
    "        print \"Error! Function does not have opposite \\\n",
    "                 signs at interval endpoints!\"\n",
    "        sys.exit(1)\n",
    "    x_M = float(x_L + x_R)/2\n",
    "    f_M = f(x_M)\n",
    "    iteration_counter = 1\n",
    "    if return_x_list:\n",
    "        x_list = []\n",
    "\n",
    "    while abs(f_M) > eps:\n",
    "        if f_L*f_M > 0:   # i.e., same sign\n",
    "            x_L = x_M\n",
    "            f_L = f_M\n",
    "        else:\n",
    "            x_R = x_M\n",
    "        x_M = float(x_L + x_R)/2\n",
    "        f_M = f(x_M)\n",
    "        iteration_counter += 1\n",
    "        if return_x_list:\n",
    "            x_list.append(x_M)\n",
    "    if return_x_list:\n",
    "        return x_list, iteration_counter\n",
    "    else:\n",
    "        return x_M, iteration_counter\n",
    "\n",
    "def Newton(f, dfdx, x, eps, return_x_list=False):\n",
    "    f_value = f(x)\n",
    "    iteration_counter = 0\n",
    "    if return_x_list:\n",
    "        x_list = []\n",
    "\n",
    "    while abs(f_value) > eps and iteration_counter < 100:\n",
    "        try:\n",
    "            x = x - float(f_value)/dfdx(x)\n",
    "        except ZeroDivisionError:\n",
    "            print \"Error! - derivative zero for x = \", x\n",
    "            sys.exit(1)     # Abort with error\n",
    "\n",
    "        f_value = f(x)\n",
    "        iteration_counter += 1\n",
    "        if return_x_list:\n",
    "            x_list.append(x)\n",
    "\n",
    "    # Here, either a solution is found, or too many iterations\n",
    "    if abs(f_value) > eps:\n",
    "        iteration_counter = -1  # i.e., lack of convergence\n",
    "\n",
    "    if return_x_list:\n",
    "        return x_list, iteration_counter\n",
    "    else:\n",
    "        return x, iteration_counter\n",
    "\n",
    "def secant(f, x0, x1, eps, return_x_list=False):\n",
    "    f_x0 = f(x0)\n",
    "    f_x1 = f(x1)\n",
    "    iteration_counter = 0\n",
    "    if return_x_list:\n",
    "        x_list = []\n",
    "\n",
    "    while abs(f_x1) > eps and iteration_counter < 100:\n",
    "        try:\n",
    "            denominator = float(f_x1 - f_x0)/(x1 - x0)\n",
    "            x = x1 - float(f_x1)/denominator\n",
    "        except ZeroDivisionError:\n",
    "            print \"Error! - denominator zero for x = \", x\n",
    "            sys.exit(1)     # Abort with error\n",
    "        x0 = x1\n",
    "        x1 = x\n",
    "        f_x0 = f_x1\n",
    "        f_x1 = f(x1)\n",
    "        iteration_counter += 1\n",
    "        if return_x_list:\n",
    "            x_list.append(x)\n",
    "    # Here, either a solution is found, or too many iterations\n",
    "    if abs(f_x1) > eps:\n",
    "        iteration_counter = -1\n",
    "\n",
    "    if return_x_list:\n",
    "        return x_list, iteration_counter\n",
    "    else:\n",
    "        return x, iteration_counter\n",
    "\n",
    "from math import log\n",
    "\n",
    "def rate(x, x_exact):\n",
    "    e = [abs(x_ - x_exact) for x_ in x]\n",
    "    q = [log(e[n+1]/e[n])/log(e[n]/e[n-1])\n",
    "         for n in range(1, len(e)-1, 1)]\n",
    "    return q"
   ]
  }
 ],
 "metadata": {
  "kernelspec": {
   "display_name": "Python 3",
   "language": "python",
   "name": "python3"
  },
  "language_info": {
   "codemirror_mode": {
    "name": "ipython",
    "version": 3
   },
   "file_extension": ".py",
   "mimetype": "text/x-python",
   "name": "python",
   "nbconvert_exporter": "python",
   "pygments_lexer": "ipython3",
   "version": "3.6.5"
  }
 },
 "nbformat": 4,
 "nbformat_minor": 2
}
