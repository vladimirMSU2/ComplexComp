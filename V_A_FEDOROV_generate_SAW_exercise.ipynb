{
 "cells": [
  {
   "cell_type": "markdown",
   "metadata": {},
   "source": [
    "# I. Generate all lattice walks, 2D square lattice"
   ]
  },
  {
   "cell_type": "code",
   "execution_count": 1,
   "metadata": {},
   "outputs": [],
   "source": [
    "# This I showed in class:\n",
    "\n",
    "\n",
    "steps = [(1, 0), (-1, 0), (0, 1), (0, -1)]\n",
    "\n",
    "def generate_walks(path, L):\n",
    "    \"\"\"Generate all random walks on the 2D square lattice.\"\"\"\n",
    "    if L == 0:\n",
    "        print(path)\n",
    "    else:\n",
    "        for dx, dy in steps:\n",
    "            x, y = path[-1]\n",
    "            pp = path.copy()\n",
    "            pp.append((x + dx, y + dy))\n",
    "            generate_walks(pp, L - 1)"
   ]
  },
  {
   "cell_type": "markdown",
   "metadata": {},
   "source": [
    "## Store the walks\n",
    "\n",
    "Printing walks is nice, but not very useful. Better construct a list of all walks, for postprocessing. To this end, add a `cache` parameter, which stores all generated walks."
   ]
  },
  {
   "cell_type": "code",
   "execution_count": 693,
   "metadata": {},
   "outputs": [],
   "source": [
    "steps = [(1, 0), (-1, 0), (0, 1), (0, -1)]\n",
    "\n",
    "def generate_walks2(path, L, cache):\n",
    "    if L == 0:        \n",
    "        cache.append(path)\n",
    "    else:\n",
    "        for dx, dy in steps:\n",
    "            x, y = path[-1]\n",
    "            xy_new = (x + dx, y + dy)\n",
    "            pp = path.copy()\n",
    "            pp.append(xy_new)\n",
    "        \n",
    "            generate_walks2(pp, L - 1, cache)"
   ]
  },
  {
   "cell_type": "code",
   "execution_count": 694,
   "metadata": {},
   "outputs": [
    {
     "data": {
      "text/plain": [
       "16"
      ]
     },
     "execution_count": 694,
     "metadata": {},
     "output_type": "execute_result"
    }
   ],
   "source": [
    "cache= []\n",
    "generate_walks2([(0, 0)], 2, cache)\n",
    "len(cache)"
   ]
  },
  {
   "cell_type": "markdown",
   "metadata": {},
   "source": [
    "## Task 0\n",
    "\n",
    "Compute the average end-to-end distance of random walks of a given length. What is the scaling of the end-to-end distance with the length of the walk? What is the scaling of the mean *square* end-to-end distance with the length?"
   ]
  },
  {
   "cell_type": "code",
   "execution_count": 695,
   "metadata": {},
   "outputs": [],
   "source": [
    "import matplotlib.pyplot as plt\n",
    "%matplotlib inline"
   ]
  },
  {
   "cell_type": "code",
   "execution_count": 741,
   "metadata": {
    "scrolled": true
   },
   "outputs": [],
   "source": [
    "# Compute the average end-to-end vector r and distance a of random walks of a given length L\n",
    "\n",
    "def avg_end2end_vector(L, cache):\n",
    "    a_sum = 0\n",
    "    r=[]\n",
    "    a=[]\n",
    "    x_sum = 0\n",
    "    y_sum = 0\n",
    "    for i in range(len(cache)):\n",
    "        # Compute for each walks\n",
    "        r_y_i = cache[i][L][1] - cache[i][0][1]  #for Y \n",
    "        r_x_i = cache[i][L][0] - cache[i][0][0]  #for X\n",
    "        r_i = (r_x_i, r_y_i)\n",
    "        #Compute the average end-to-end distance a\n",
    "        a_i =  (r_x_i**2 + r_y_i**2)**0.5\n",
    "        a_sum += a_i\n",
    "        x_sum += r_x_i\n",
    "        y_sum += r_y_i\n",
    "        r.append(r_i) # save average end-to-end vector for each walks in memory\n",
    "        a.append(a_i) # save  end-to-end distance for each walks in memory\n",
    "        #compute and print average distance\n",
    "        a_avg =a_sum/(i+1)\n",
    "    print('(x_avg,y_avg,e2e distance,count)')    \n",
    "    print(round(x_sum/(i+1)),round(y_sum/(i+1)),a_avg,len(cache))          \n",
    "    return a_avg\n",
    "    \n",
    "    \n"
   ]
  },
  {
   "cell_type": "code",
   "execution_count": 752,
   "metadata": {},
   "outputs": [
    {
     "name": "stdout",
     "output_type": "stream",
     "text": [
      "(x_avg,y_avg,e2e distance,count)\n",
      "0 0 0.0 1\n",
      "(x_avg,y_avg,e2e distance,count)\n",
      "0 0 1.0 4\n",
      "(x_avg,y_avg,e2e distance,count)\n",
      "0 0 1.2071067811865477 16\n",
      "(x_avg,y_avg,e2e distance,count)\n",
      "0 0 1.5885254915624203 64\n",
      "(x_avg,y_avg,e2e distance,count)\n",
      "0 0 1.7532798363559174 256\n",
      "(x_avg,y_avg,e2e distance,count)\n",
      "0 0 2.0193315606071582 1024\n",
      "(x_avg,y_avg,e2e distance,count)\n",
      "0 0 2.1612211221359865 4096\n",
      "(x_avg,y_avg,e2e distance,count)\n",
      "0 0 2.374821460732043 16384\n",
      "(x_avg,y_avg,e2e distance,count)\n",
      "0 0 2.5017070926792733 65536\n",
      "(x_avg,y_avg,e2e distance,count)\n",
      "0 0 2.6842200373912326 262144\n"
     ]
    },
    {
     "data": {
      "image/png": "[encoded data removed]",
      "text/plain": [
       "<Figure size 432x288 with 1 Axes>"
      ]
     },
     "metadata": {},
     "output_type": "display_data"
    }
   ],
   "source": [
    "# compute and plot end-to-end distance \n",
    "# and mean square end-to-end distance from the length L of the walk\n",
    "r=[]\n",
    "a=[]\n",
    "scaling=[]\n",
    "scaling_sq=[]\n",
    "for L in range(10):\n",
    "    cache= []\n",
    "    generate_walks2([(0, 0)], L, cache)\n",
    "    distance_i = avg_end2end_vector(L, cache)\n",
    "    scaling.append(distance_i)\n",
    "    scaling_sq.append(distance_i**2)\n",
    "fig, ax = plt.subplots()\n",
    "ax.plot(scaling, label='end-to-end distance')\n",
    "ax.plot(scaling_sq, label=\"mean square end-to-end distance\")\n",
    "legend = ax.legend(loc='upper left', shadow=True)"
   ]
  },
  {
   "cell_type": "markdown",
   "metadata": {},
   "source": [
    "# I. Generate all SAWs on a 2D square lattice\n",
    "\n",
    "A self-avoiding walk is a random walk where a lattice site can only be visited once."
   ]
  },
  {
   "cell_type": "code",
   "execution_count": 737,
   "metadata": {},
   "outputs": [],
   "source": [
    "from random import randint\n",
    "steps = [(1, 0), (-1, 0), (0, 1), (0, -1)]\n",
    "L=4\n",
    "def generate_SAWs(path, L, cache):\n",
    "    if L == 0:\n",
    "        cache.append(path)\n",
    "    else:\n",
    "        for dx, dy in steps:\n",
    "            x, y = path[-1]\n",
    "            xy_new = (x + dx, y + dy)\n",
    "            pp = path.copy()\n",
    "            pp.append(xy_new)\n",
    "            # self-avoiding walk condition\n",
    "            if pp.count(pp[-1]) == 1:                \n",
    "                generate_SAWs(pp, L - 1, cache)"
   ]
  },
  {
   "cell_type": "code",
   "execution_count": 738,
   "metadata": {},
   "outputs": [
    {
     "data": {
      "text/plain": [
       "[[(0, 0), (1, 0), (2, 0)],\n",
       " [(0, 0), (1, 0), (1, 1)],\n",
       " [(0, 0), (1, 0), (1, -1)],\n",
       " [(0, 0), (-1, 0), (-2, 0)],\n",
       " [(0, 0), (-1, 0), (-1, 1)],\n",
       " [(0, 0), (-1, 0), (-1, -1)],\n",
       " [(0, 0), (0, 1), (1, 1)],\n",
       " [(0, 0), (0, 1), (-1, 1)],\n",
       " [(0, 0), (0, 1), (0, 2)],\n",
       " [(0, 0), (0, -1), (1, -1)],\n",
       " [(0, 0), (0, -1), (-1, -1)],\n",
       " [(0, 0), (0, -1), (0, -2)]]"
      ]
     },
     "execution_count": 738,
     "metadata": {},
     "output_type": "execute_result"
    }
   ],
   "source": [
    "cache=[]\n",
    "generate_SAWs([(0, 0)], 2, cache)\n",
    "cache"
   ]
  },
  {
   "cell_type": "code",
   "execution_count": 688,
   "metadata": {},
   "outputs": [],
   "source": [
    "pp=[(0, 0), (1, 0), (0, 0)]\n",
    "if pp.count(pp[-1]) == 1:\n",
    "    print(pp)\n",
    " "
   ]
  },
  {
   "cell_type": "markdown",
   "metadata": {},
   "source": [
    "## Task 1\n",
    "\n",
    "How many walks of a given length are there? What is the mean end-to-end distance of walks of a given length? What is mean *square* of the end-to-end distance?"
   ]
  },
  {
   "cell_type": "code",
   "execution_count": 748,
   "metadata": {},
   "outputs": [],
   "source": [
    "# ...\n",
    "# ... Enter your code and results here\n",
    "##  watch TASK 0 --> avg_end2end_vector"
   ]
  },
  {
   "cell_type": "code",
   "execution_count": 750,
   "metadata": {},
   "outputs": [
    {
     "name": "stdout",
     "output_type": "stream",
     "text": [
      "(x_avg,y_avg,e2e distance,count)\n",
      "0 0 0.0 1\n",
      "(x_avg,y_avg,e2e distance,count)\n",
      "0 0 1.0 4\n",
      "(x_avg,y_avg,e2e distance,count)\n",
      "0 0 1.6094757082487303 12\n",
      "(x_avg,y_avg,e2e distance,count)\n",
      "0 0 2.046267540555414 36\n",
      "(x_avg,y_avg,e2e distance,count)\n",
      "0 0 2.5570255311726613 100\n",
      "(x_avg,y_avg,e2e distance,count)\n",
      "0 0 2.9512053136683383 284\n",
      "(x_avg,y_avg,e2e distance,count)\n",
      "0 0 3.3905293993647274 780\n",
      "(x_avg,y_avg,e2e distance,count)\n",
      "0 0 3.7476893934881423 2172\n",
      "(x_avg,y_avg,e2e distance,count)\n",
      "0 0 4.149885562855251 5916\n",
      "(x_avg,y_avg,e2e distance,count)\n",
      "0 0 4.487146601788904 16268\n"
     ]
    },
    {
     "data": {
      "image/png": "[encoded data removed]",
      "text/plain": [
       "<Figure size 432x288 with 1 Axes>"
      ]
     },
     "metadata": {},
     "output_type": "display_data"
    }
   ],
   "source": [
    "#compute and plot end-to-end distance \n",
    "# and mean square end-to-end distance from the length L of the self-avoiding walk\n",
    "r=[]\n",
    "a=[]\n",
    "scalingSRW=[]\n",
    "scaling_sqSRW=[]\n",
    "for L in range(10):\n",
    "    cache= []\n",
    "    generate_SAWs([(0, 0)], L, cache)\n",
    "    distance_i = avg_end2end_vector(L, cache)\n",
    "    scalingSRW.append(distance_i)\n",
    "    scaling_sqSRW.append(distance_i**2)\n",
    "fig, ax = plt.subplots()\n",
    "ax.plot(scalingSRW, label='end-to-end distance')\n",
    "ax.plot(scaling_sqSRW, label=\"mean square end-to-end distance\")\n",
    "legend = ax.legend(loc='upper left', shadow=True)"
   ]
  },
  {
   "cell_type": "markdown",
   "metadata": {},
   "source": [
    "# Plot end2end distance from the length L for RW and SRW"
   ]
  },
  {
   "cell_type": "code",
   "execution_count": 753,
   "metadata": {},
   "outputs": [
    {
     "data": {
      "image/png": "[encoded data removed]",
      "text/plain": [
       "<Figure size 432x288 with 1 Axes>"
      ]
     },
     "metadata": {},
     "output_type": "display_data"
    }
   ],
   "source": [
    "fig, ax = plt.subplots()\n",
    "ax.plot(scaling, label='end-to-end distance RW')\n",
    "ax.plot(scalingSRW, label=\"end-to-end distance SRW\")\n",
    "legend = ax.legend(loc='upper left', shadow=True)"
   ]
  }
 ],
 "metadata": {
  "kernelspec": {
   "display_name": "Python 3",
   "language": "python",
   "name": "python3"
  },
  "language_info": {
   "codemirror_mode": {
    "name": "ipython",
    "version": 3
   },
   "file_extension": ".py",
   "mimetype": "text/x-python",
   "name": "python",
   "nbconvert_exporter": "python",
   "pygments_lexer": "ipython3",
   "version": "3.6.5"
  }
 },
 "nbformat": 4,
 "nbformat_minor": 2
}
