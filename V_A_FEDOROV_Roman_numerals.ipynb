{
 "cells": [
  {
   "cell_type": "markdown",
   "metadata": {},
   "source": [
    "# Roman numerals"
   ]
  },
  {
   "cell_type": "markdown",
   "metadata": {},
   "source": [
    "## I. Roman numerals to decimals\n",
    "\n",
    "Write a function which receives a Roman numeral written out as a string, and returns an integer representing the decimal form of the input number. "
   ]
  },
  {
   "cell_type": "code",
   "execution_count": 65,
   "metadata": {},
   "outputs": [],
   "source": [
    "mapping = {\"I\" : 1, \n",
    "           \"V\" : 5,\n",
    "           \"X\" : 10,\n",
    "           \"L\" : 50,\n",
    "           \"C\" : 100,\n",
    "           \"D\" : 500,\n",
    "           \"M\" : 1000}"
   ]
  },
  {
   "cell_type": "code",
   "execution_count": 66,
   "metadata": {},
   "outputs": [],
   "source": [
    "def roman_to_decimal(rom):\n",
    "    \n",
    "    \"\"\"Convert a Roman numeral to decimal\"\"\"\n",
    "    dec=0\n",
    "    #waring condition\n",
    "    if len(rom) == 0:\n",
    "        print('WARING:empty str')\n",
    "    elif rom==' ':\n",
    "        print('WARING:space str')\n",
    "    #simple string return\n",
    "    elif len(rom)==1:\n",
    "        return mapping[rom]\n",
    "    #check condition of positional notation\n",
    "    else:\n",
    "        dec_step = 0\n",
    "        for i in range(len(rom) - 1):\n",
    "            if mapping[rom[i]] >= mapping[rom[i+1]]: #condition for addition:ascending order\n",
    "                dec_step += mapping[rom[i]]\n",
    "            #Subtractive notation\n",
    "            else:                           #condition for subtraction:decreasing order\n",
    "                dec_step -= mapping[rom[i]]\n",
    "        dec = dec_step + mapping[rom[-1]]  # compute total sum   \n",
    "    return dec"
   ]
  },
  {
   "cell_type": "markdown",
   "metadata": {},
   "source": [
    "Here are some tests for you to test your code. Your code must pass all of them. You also need to come up with several more tests (your choice)."
   ]
  },
  {
   "cell_type": "markdown",
   "metadata": {},
   "source": [
    "# successful test"
   ]
  },
  {
   "cell_type": "code",
   "execution_count": 68,
   "metadata": {},
   "outputs": [
    {
     "name": "stdout",
     "output_type": "stream",
     "text": [
      "IX True 9\n",
      "XI True 11\n",
      "MCCII True 1202\n",
      "MMXVIII True 2018\n",
      "XLIX True 49\n"
     ]
    }
   ],
   "source": [
    "test_pairs = [(\"IX\", 9), (\"XI\", 11), (\"MCCII\", 1202), (\"MMXVIII\", 2018), (\"XLIX\", 49)]\n",
    "\n",
    "for rom, dec in test_pairs:\n",
    "    converted = roman_to_decimal(rom)\n",
    "    print(rom,converted == dec, dec)"
   ]
  },
  {
   "cell_type": "markdown",
   "metadata": {},
   "source": [
    "## II. Decimal numbers to roman numerals.\n",
    "\n",
    "The maximum grade for first task (Roman to decimal) is 7 on the 10-point HSE scale. For extra credit, complete the second task: *given a decimal number, convert it to the Roman form*."
   ]
  },
  {
   "cell_type": "code",
   "execution_count": 191,
   "metadata": {},
   "outputs": [],
   "source": [
    "def decimal_to_roman(dec):\n",
    "    \"\"\"Convert a decimal to the Roman form. \n",
    "    \n",
    "    Ввиду исключений (\"subtractive notation:правило вычитания\")\n",
    "    в \"новой\" версии записи рисмких цифр (IV-->IIII, IX-->VIIII и пр. - всего 6)\n",
    "    обратное преобразование работать не будет.    \n",
    "    Наиболее простой вариант реализации конвертера арабских числительных в римские \n",
    "    - это дополнить существующий мэппинг указанными исключениями и не иметь проблем:\n",
    "    \n",
    "    values = [1000, 900, 500, 400,100, 90, 50, 40,10, 9, 5, 4, 1]\n",
    "    \n",
    "    keys =  [\"M\", \"CM\", \"D\", \"CD\", \"C\", \"XC\", \"L\", \"XL\", \"X\", \"IX\", \"V\", \"IV\", \"I\"]\n",
    "\n",
    "    mapping = dict(zip(keys,values)) # или инвертировать словарь \n",
    "                                     # для удобства mapping = dict(zip(values,keys))\n",
    "                                     \n",
    "    Некоторые из цифр (I, X, C, M) могут повторяться, но не более трёх раз подряд,\n",
    "    т.е. можно записать любое целое число не более 3999 (MMMCMXCIX).\n",
    "    \n",
    "    Тем не менее, если принять, что исходный мэппинг - единственно доступный,\n",
    "    возможна следующая реализация:                                \n",
    " \"\"\"   \n",
    "    \n",
    "    rom = ''\n",
    "\n",
    "    #единожды инвертируем словарь\n",
    "    \"\"\"val= list(mapping.values())\n",
    "    val.reverse()\n",
    "    keys = list(mapping.keys())\n",
    "    keys.reverse()\"\"\"\n",
    "    mapping = dict(zip(keys,val))\n",
    "    #раскладываем число по десятичным разрядам\n",
    "    for i in range(len(str(dec)), 0, -1):\n",
    "        pos = i \n",
    "        num = (dec-dec%(10**(pos-1)))%(10**pos) \n",
    "        # проверяем, что представление числа строго больше 0\n",
    "        while(num>0):\n",
    "            for div in keys:\n",
    "                # Запись разрядов кратных 1, 5, 10, C, D, M\n",
    "                if num/div == 1: # поочередная проверка разрядов на кратное деление \n",
    "                    #print(mapping[div], end=\"\") #записываем значения если условие выполняется \n",
    "                    rom+=mapping[div]\n",
    "                    num-=div\n",
    "                    break\n",
    "\n",
    "                # Запись разрядов кратных 2, 3, 6, 8\n",
    "                if num/div > 1:  # проверка на деление с остатком\n",
    "                    #print(mapping[div],end=\"\") #записываем ближайшее занч. \n",
    "                    rom+=mapping[div]          #соответств. делению без остатка\n",
    "                    num-=div                   #вычитаем полученное значение из числа\n",
    "                    break                           \n",
    "                    \n",
    "                # Запись разрядов кратных 4, 9 \n",
    "                if (num+(10**(pos-1)))/div == 1: # если мы добовляем к числу 1 и оно деится на цело \n",
    "                    #print(mapping[div-num], end=\"\") #--> число приближается к разряду слева  \n",
    "                    #print(mapping[div], end=\"\")     #записываем IV, IX\n",
    "                    rom+=mapping[div-num] + mapping[div]\n",
    "                    num-=div\n",
    "                    break                            \n",
    "                   \n",
    "    return rom"
   ]
  },
  {
   "cell_type": "markdown",
   "metadata": {},
   "source": [
    "You need to come up with test cases to show that your conversion works as expected. \n",
    "NB: the conversion is ambiguous in some cases. Any valid conversion is accepted. "
   ]
  },
  {
   "cell_type": "markdown",
   "metadata": {},
   "source": [
    "# successful test 2"
   ]
  },
  {
   "cell_type": "code",
   "execution_count": 193,
   "metadata": {},
   "outputs": [
    {
     "name": "stdout",
     "output_type": "stream",
     "text": [
      "4 True IV\n",
      "11 True XI\n",
      "3999 True MMMCMXCIX\n",
      "99 True XCIX\n",
      "49 True XLIX\n"
     ]
    }
   ],
   "source": [
    "test_pairs = [(4, \"IV\"), (11, \"XI\"), (3999, \"MMMCMXCIX\"), (99,\"XCIX\"), (49,\"XLIX\")]\n",
    "for dec,rom in test_pairs:\n",
    "    converted = decimal_to_roman(dec)\n",
    "    print(dec,converted == rom, rom)"
   ]
  }
 ],
 "metadata": {
  "kernelspec": {
   "display_name": "Python 3",
   "language": "python",
   "name": "python3"
  },
  "language_info": {
   "codemirror_mode": {
    "name": "ipython",
    "version": 3
   },
   "file_extension": ".py",
   "mimetype": "text/x-python",
   "name": "python",
   "nbconvert_exporter": "python",
   "pygments_lexer": "ipython3",
   "version": "3.6.5"
  }
 },
 "nbformat": 4,
 "nbformat_minor": 2
}
